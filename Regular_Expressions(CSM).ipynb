{
 "cells": [
  {
   "cell_type": "code",
   "execution_count": 1,
   "metadata": {},
   "outputs": [],
   "source": [
    "import re"
   ]
  },
  {
   "cell_type": "code",
   "execution_count": 3,
   "metadata": {},
   "outputs": [],
   "source": [
    "# /*The findall() function \n",
    "# returns a list containing all matches.*/\n"
   ]
  },
  {
   "cell_type": "code",
   "execution_count": 4,
   "metadata": {},
   "outputs": [
    {
     "name": "stdout",
     "output_type": "stream",
     "text": [
      "['ro', 'ro', 'ro']\n"
     ]
    }
   ],
   "source": [
    "txt='advanced python programming, Problem solving through C'\n",
    "x=re.findall('ro',txt)\n",
    "print(x)"
   ]
  },
  {
   "cell_type": "code",
   "execution_count": 5,
   "metadata": {},
   "outputs": [],
   "source": [
    "# /*The search() function takes a regular expression pattern and a string, \n",
    "# and it searches for that pattern within the string. \n",
    "# If the search is successful, search() returns a match object. \n",
    "# Otherwise, it returns None.\n",
    "# span() - Print the position (start- and end-position) of the first match occurrence.\n",
    "# start() - returns the start index of the match\n",
    "# end() - returns end+1 index of the match\n",
    "# group() - returns matched string\n",
    "# string - Print the string passed into the function \n",
    "\n",
    "# */"
   ]
  },
  {
   "cell_type": "code",
   "execution_count": 6,
   "metadata": {},
   "outputs": [
    {
     "name": "stdout",
     "output_type": "stream",
     "text": [
      "<re.Match object; span=(9, 15), match='python'>\n",
      "(9, 15)\n",
      "advanced python programming\n",
      "The matched string is:python,Start index is found at:9,End index is found at:15\n"
     ]
    }
   ],
   "source": [
    "text='advanced python programming'\n",
    "x=re.search('python',text)\n",
    "print(x)\n",
    "print(x.span())\n",
    "print(x.string)\n",
    "print(\"The matched string is:{},Start index is found at:{},End index is found at:{}\".format(x.group(),x.start(),x.end()))"
   ]
  },
  {
   "cell_type": "code",
   "execution_count": 7,
   "metadata": {},
   "outputs": [
    {
     "ename": "AttributeError",
     "evalue": "'NoneType' object has no attribute 'group'",
     "output_type": "error",
     "traceback": [
      "\u001b[1;31m---------------------------------------------------------------------------\u001b[0m",
      "\u001b[1;31mAttributeError\u001b[0m                            Traceback (most recent call last)",
      "\u001b[1;32m<ipython-input-7-a9b0b1611d25>\u001b[0m in \u001b[0;36m<module>\u001b[1;34m\u001b[0m\n\u001b[0;32m      1\u001b[0m \u001b[0mtext2\u001b[0m\u001b[1;33m=\u001b[0m\u001b[1;34m'advanced python programming'\u001b[0m\u001b[1;33m\u001b[0m\u001b[1;33m\u001b[0m\u001b[0m\n\u001b[0;32m      2\u001b[0m \u001b[0mx\u001b[0m\u001b[1;33m=\u001b[0m\u001b[0mre\u001b[0m\u001b[1;33m.\u001b[0m\u001b[0msearch\u001b[0m\u001b[1;33m(\u001b[0m\u001b[1;34m'problem'\u001b[0m\u001b[1;33m,\u001b[0m\u001b[0mtext2\u001b[0m\u001b[1;33m)\u001b[0m\u001b[1;33m\u001b[0m\u001b[1;33m\u001b[0m\u001b[0m\n\u001b[1;32m----> 3\u001b[1;33m \u001b[0mprint\u001b[0m\u001b[1;33m(\u001b[0m\u001b[1;34m\"The matched string is:{},Start index is found at:{},End index is found at:{}\"\u001b[0m\u001b[1;33m.\u001b[0m\u001b[0mformat\u001b[0m\u001b[1;33m(\u001b[0m\u001b[0mx\u001b[0m\u001b[1;33m.\u001b[0m\u001b[0mgroup\u001b[0m\u001b[1;33m(\u001b[0m\u001b[1;33m)\u001b[0m\u001b[1;33m,\u001b[0m\u001b[0mx\u001b[0m\u001b[1;33m.\u001b[0m\u001b[0mstart\u001b[0m\u001b[1;33m(\u001b[0m\u001b[1;33m)\u001b[0m\u001b[1;33m,\u001b[0m\u001b[0mx\u001b[0m\u001b[1;33m.\u001b[0m\u001b[0mend\u001b[0m\u001b[1;33m(\u001b[0m\u001b[1;33m)\u001b[0m\u001b[1;33m)\u001b[0m\u001b[1;33m)\u001b[0m\u001b[1;33m\u001b[0m\u001b[1;33m\u001b[0m\u001b[0m\n\u001b[0m",
      "\u001b[1;31mAttributeError\u001b[0m: 'NoneType' object has no attribute 'group'"
     ]
    }
   ],
   "source": [
    "text2='advanced python programming'\n",
    "x=re.search('problem',text2)\n",
    "print(\"The matched string is:{},Start index is found at:{},End index is found at:{}\".format(x.group(),x.start(),x.end()))"
   ]
  },
  {
   "cell_type": "code",
   "execution_count": 8,
   "metadata": {},
   "outputs": [
    {
     "name": "stdout",
     "output_type": "stream",
     "text": [
      "<re.Match object; span=(16, 27), match='programming'>\n",
      "<class 're.Match'>\n",
      "The matched string is:programming,Start index is found at:16,End index is found at:27\n"
     ]
    }
   ],
   "source": [
    "text3='advanced python programming,C programming'\n",
    "x=re.search('programming',text3)\n",
    "print(x)\n",
    "print(type(x))\n",
    "print(\"The matched string is:{},Start index is found at:{},End index is found at:{}\".format(x.group(),x.start(),x.end()))"
   ]
  },
  {
   "cell_type": "code",
   "execution_count": 9,
   "metadata": {},
   "outputs": [
    {
     "name": "stdout",
     "output_type": "stream",
     "text": [
      "The matched string is:C,Start index is found at:28,End index is found at:29\n"
     ]
    }
   ],
   "source": [
    "text4='advanced python programming,C programming'\n",
    "x=re.search('C',text4)\n",
    "print(\"The matched string is:{},Start index is found at:{},End index is found at:{}\".format(x.group(),x.start(),x.end()))"
   ]
  },
  {
   "cell_type": "code",
   "execution_count": 10,
   "metadata": {},
   "outputs": [],
   "source": [
    "#The split() function returns a list that shows where the string has been split at each match."
   ]
  },
  {
   "cell_type": "code",
   "execution_count": 11,
   "metadata": {},
   "outputs": [
    {
     "name": "stdout",
     "output_type": "stream",
     "text": [
      "['advanced ', 'ython ', 'rogramming']\n"
     ]
    }
   ],
   "source": [
    "text5='advanced python programming'\n",
    "x=re.split('p',text5)\n",
    "print(x)"
   ]
  },
  {
   "cell_type": "code",
   "execution_count": 12,
   "metadata": {},
   "outputs": [
    {
     "name": "stdout",
     "output_type": "stream",
     "text": [
      "['advanced', 'python', 'programming']\n"
     ]
    }
   ],
   "source": [
    "text6='advanced python programming'\n",
    "x=re.split('\\s',text6)\n",
    "print(x)"
   ]
  },
  {
   "cell_type": "code",
   "execution_count": 13,
   "metadata": {},
   "outputs": [],
   "source": [
    "# /*sub() stands for substring a certain regular expression pattern is \n",
    "# searched in the given string(3rd parameter), \n",
    "# and upon finding the substring pattern is \n",
    "# replaced by repl(2nd parameter),\n",
    "# count checks and maintains the number of times this occurs*/"
   ]
  },
  {
   "cell_type": "code",
   "execution_count": 14,
   "metadata": {},
   "outputs": [
    {
     "name": "stdout",
     "output_type": "stream",
     "text": [
      "Advanced python ~*gramming,C ~*gramming\n"
     ]
    }
   ],
   "source": [
    "\n",
    "print(re.sub('pro', '~*', 'Advanced python programming,C PROgramming',\n",
    "             count=2, flags=re.IGNORECASE))"
   ]
  },
  {
   "cell_type": "code",
   "execution_count": 15,
   "metadata": {},
   "outputs": [
    {
     "name": "stdout",
     "output_type": "stream",
     "text": [
      "Advanced python ~*gramming,C PROgramming\n"
     ]
    }
   ],
   "source": [
    "print(re.sub('pro', '~*', 'Advanced python programming,C PROgramming',\n",
    "             count=1,flags=re.IGNORECASE))"
   ]
  },
  {
   "cell_type": "code",
   "execution_count": 16,
   "metadata": {},
   "outputs": [
    {
     "name": "stdout",
     "output_type": "stream",
     "text": [
      "Advanced python ~*gramming,C PROgramming\n"
     ]
    }
   ],
   "source": [
    "print(re.sub('pro', '~*', 'Advanced python programming,C PROgramming',\n",
    "             count=1))"
   ]
  },
  {
   "cell_type": "code",
   "execution_count": 17,
   "metadata": {},
   "outputs": [
    {
     "name": "stdout",
     "output_type": "stream",
     "text": [
      "Advanced python ~*gramming,C PROgramming\n"
     ]
    }
   ],
   "source": [
    "print(re.sub('pro', '~*', 'Advanced python programming,C PROgramming'\n",
    "             ))"
   ]
  },
  {
   "cell_type": "code",
   "execution_count": 18,
   "metadata": {},
   "outputs": [],
   "source": [
    "# /*subn() is similar to sub() in all ways, except in its way of providing output.\n",
    "# It returns a tuple with a count of the total of replacement and the new string \n",
    "# rather than just the string. \n",
    "# */"
   ]
  },
  {
   "cell_type": "code",
   "execution_count": 19,
   "metadata": {},
   "outputs": [
    {
     "name": "stdout",
     "output_type": "stream",
     "text": [
      "('Advanced python ~*gramming,C ~*gramming', 2)\n",
      "2\n",
      "Advanced python ~*gramming,C ~*gramming\n",
      "2\n"
     ]
    }
   ],
   "source": [
    "t=re.subn('pro', '~*', 'Advanced python programming,C PROgramming',\n",
    "             flags=re.IGNORECASE)\n",
    "print(t)\n",
    "print(len(t))\n",
    "print(t[0])\n",
    "print(t[1])"
   ]
  },
  {
   "cell_type": "code",
   "execution_count": 20,
   "metadata": {},
   "outputs": [
    {
     "name": "stdout",
     "output_type": "stream",
     "text": [
      "('Advanced python ~*gramming,C PROgramming', 1)\n",
      "2\n",
      "Advanced python ~*gramming,C PROgramming\n",
      "1\n"
     ]
    }
   ],
   "source": [
    "t=re.subn('pro', '~*', 'Advanced python programming,C PROgramming')\n",
    "print(t)\n",
    "print(len(t))\n",
    "print(t[0])\n",
    "print(t[1])"
   ]
  },
  {
   "cell_type": "code",
   "execution_count": 21,
   "metadata": {},
   "outputs": [],
   "source": [
    "# /*Regular Expression Sets\n",
    "# [abc] - Match/Search Either a or b or c\n",
    "# [^abc] - Match/Search Except a and b and c\n",
    "# [a-z] - Match/Search any lower case alphabet\n",
    "# [A-Z] - Match/Search any upper case alphabet\n",
    "# [a-zA-Z] - Match/Search any alphabet\n",
    "# [0-9] - Match/Search any digit\n",
    "# [a-zA-Z0-9] - Match/Search any alphabet and digit\n",
    "# [^a-zA-Z0-9] - Match/Search except alphabet and digit*/"
   ]
  },
  {
   "cell_type": "code",
   "execution_count": 22,
   "metadata": {},
   "outputs": [
    {
     "name": "stdout",
     "output_type": "stream",
     "text": [
      "['p', 'y', 'p', 'g', 'g']\n",
      "Yes there is a match\n"
     ]
    }
   ],
   "source": [
    "text='advanced python programming'\n",
    "#check if the string has p or g or y characters\n",
    "x=re.findall('[pgy]',text)\n",
    "print(x)\n",
    "if x:\n",
    "    print(\"Yes there is a match\")\n",
    "else:\n",
    "    print(\"No match of p g y is found\")\n"
   ]
  },
  {
   "cell_type": "code",
   "execution_count": 23,
   "metadata": {},
   "outputs": [
    {
     "name": "stdout",
     "output_type": "stream",
     "text": [
      "['A', 'd', 'v', 'a', 'n', 'c', 'e', 'd', ' ', 't', 'h', 'o', 'n', ' ', 'r', 'o', 'r', 'a', 'm', 'm', 'i', 'n', ' ', '0', '9']\n",
      "Yes there is a match\n"
     ]
    }
   ],
   "source": [
    "text='Advanced python programming 09'\n",
    "#check if the string has characters except p and g and y\n",
    "x=re.findall('[^pgy]',text)\n",
    "print(x)\n",
    "if x:\n",
    "    print(\"Yes there is a match\")\n",
    "else:\n",
    "    print(\"No match of p g y is found\")"
   ]
  },
  {
   "cell_type": "code",
   "execution_count": 24,
   "metadata": {},
   "outputs": [
    {
     "name": "stdout",
     "output_type": "stream",
     "text": [
      "['A', 'd', 'v', 'a', 'n', 'c', 'e', 'd', 'P', 'y', 't', 'h', 'o', 'n', 'P', 'r', 'o', 'g', 'r', 'a', 'm', 'm', 'i', 'n', 'g', 'n', 'd', 'C', 'S', 'M', 'A']\n",
      "Yes there is a match\n"
     ]
    }
   ],
   "source": [
    "text='Advanced Python Programming @ 2nd CSM  A'\n",
    "#check if the string has p or g or y characters\n",
    "x=re.findall('[a-zA-Z]',text)\n",
    "print(x)\n",
    "if x:\n",
    "    print(\"Yes there is a match\")\n",
    "else:\n",
    "    print(\"No match of p g y is found\")\n"
   ]
  },
  {
   "cell_type": "code",
   "execution_count": 25,
   "metadata": {},
   "outputs": [],
   "source": [
    "# /*Quantifiers - The number of occurrences of a character\n",
    "\n",
    "# a - Matches a character only once in a string\n",
    "# a+ - Matches one or more occurrences of a character in a string.\n",
    "# a* - Matches zero or more occurrences of a character in a string.\n",
    "# a?- Matches zero or one occurrence of a character in a string.\n",
    "# a{n} - Matches exactly the specified number of occurrences of a character in a string.\n",
    "# a{m,n} - Matches exactly the specified number of occurrences(from m to n) of a character in a string."
   ]
  },
  {
   "cell_type": "code",
   "execution_count": 26,
   "metadata": {},
   "outputs": [
    {
     "name": "stdout",
     "output_type": "stream",
     "text": [
      "[]\n",
      "No match is found\n",
      "['aa']\n",
      "Yes there is a match\n",
      "['a', 'a']\n",
      "Yes there is a match\n",
      "['a']\n",
      "Yes there is a match\n",
      "['a']\n",
      "Yes there is a match\n"
     ]
    }
   ],
   "source": [
    "def quantifier(s):\n",
    "    x=re.findall('a+',s)\n",
    "    print(x)\n",
    "    if x:\n",
    "        print(\"Yes there is a match\")\n",
    "    else:\n",
    "        print(\"No match is found\")\n",
    "quantifier('b')\n",
    "quantifier('aab')\n",
    "quantifier('abab')\n",
    "quantifier('abcb')\n",
    "quantifier('abcd')"
   ]
  },
  {
   "cell_type": "code",
   "execution_count": 27,
   "metadata": {},
   "outputs": [
    {
     "name": "stdout",
     "output_type": "stream",
     "text": [
      "['', '']\n",
      "Yes there is a match\n",
      "['aa', '', '']\n",
      "Yes there is a match\n",
      "['a', '', 'a', '', '']\n",
      "Yes there is a match\n",
      "['a', '', '', '', '']\n",
      "Yes there is a match\n",
      "['a', '', '', '', '']\n",
      "Yes there is a match\n"
     ]
    }
   ],
   "source": [
    "def quantifier_z(s):\n",
    "    x=re.findall('a*',s)\n",
    "    print(x)\n",
    "    if x:\n",
    "        print(\"Yes there is a match\")\n",
    "    else:\n",
    "        print(\"No match is found\")\n",
    "quantifier_z('b')\n",
    "quantifier_z('aab')\n",
    "quantifier_z('abab')\n",
    "quantifier_z('abcb')\n",
    "quantifier_z('abcd')"
   ]
  },
  {
   "cell_type": "code",
   "execution_count": 28,
   "metadata": {},
   "outputs": [
    {
     "name": "stdout",
     "output_type": "stream",
     "text": [
      "['', '']\n",
      "Yes there is a match\n",
      "['a', 'a', '', '']\n",
      "Yes there is a match\n",
      "['a', '', 'a', '', '']\n",
      "Yes there is a match\n",
      "['a', '', '', '', '']\n",
      "Yes there is a match\n",
      "['a', 'a', 'a', '', 'a', '', 'a', 'a', 'a', '', '']\n",
      "Yes there is a match\n",
      "['a', '', '', '', '']\n",
      "Yes there is a match\n"
     ]
    }
   ],
   "source": [
    "def quantifier_atmost(s):\n",
    "    x=re.findall('a?',s)\n",
    "    print(x)\n",
    "    if x:\n",
    "        print(\"Yes there is a match\")\n",
    "    else:\n",
    "        print(\"No match is found\")\n",
    "quantifier_atmost('b')\n",
    "quantifier_atmost('aab')\n",
    "quantifier_atmost('abab')\n",
    "quantifier_atmost('abcb')\n",
    "quantifier_atmost('aaabacaaad')\n",
    "quantifier_atmost('abcd')"
   ]
  },
  {
   "cell_type": "code",
   "execution_count": 29,
   "metadata": {},
   "outputs": [
    {
     "name": "stdout",
     "output_type": "stream",
     "text": [
      "[]\n",
      "No match is found\n",
      "[]\n",
      "No match is found\n",
      "['aaaaa']\n",
      "Yes there is a match\n",
      "['aaaaa']\n",
      "Yes there is a match\n",
      "[]\n",
      "No match is found\n",
      "[]\n",
      "No match is found\n"
     ]
    }
   ],
   "source": [
    "def quantifier_specific(s):\n",
    "    x=re.findall('a{5}',s)\n",
    "    print(x)\n",
    "    if x:\n",
    "        print(\"Yes there is a match\")\n",
    "    else:\n",
    "        print(\"No match is found\")\n",
    "quantifier_specific('b')\n",
    "quantifier_specific('baaaab')\n",
    "quantifier_specific('ababaaaaab')\n",
    "quantifier_specific('abaaaaaab')\n",
    "quantifier_specific('aaabacaaad')\n",
    "quantifier_specific('abcd')"
   ]
  },
  {
   "cell_type": "code",
   "execution_count": 30,
   "metadata": {},
   "outputs": [
    {
     "name": "stdout",
     "output_type": "stream",
     "text": [
      "[]\n",
      "No match is found\n",
      "['aaaa']\n",
      "Yes there is a match\n",
      "['aaaa']\n",
      "Yes there is a match\n",
      "['aaaa', 'aa']\n",
      "Yes there is a match\n",
      "['aaa', 'aaa']\n",
      "Yes there is a match\n",
      "[]\n",
      "No match is found\n"
     ]
    }
   ],
   "source": [
    "def quantifier_range(s):\n",
    "    x=re.findall('a{2,4}',s)\n",
    "    print(x)\n",
    "    if x:\n",
    "        print(\"Yes there is a match\")\n",
    "    else:\n",
    "        print(\"No match is found\")\n",
    "quantifier_range('b')\n",
    "quantifier_range('baaaab')\n",
    "quantifier_range('ababaaaaab')\n",
    "quantifier_range('abaaaaaab')\n",
    "quantifier_range('aaabacaaad')\n",
    "quantifier_range('abcd')"
   ]
  },
  {
   "cell_type": "code",
   "execution_count": 31,
   "metadata": {},
   "outputs": [
    {
     "name": "stdout",
     "output_type": "stream",
     "text": [
      "345 2948 234\n",
      "ac rty fgh jk\n"
     ]
    }
   ],
   "source": [
    "# Function to separate the numbers\n",
    "# and alphabets from the given string\n",
    "def NumbersAlphabets(s):\n",
    "    numbers = re.findall(r'[0-9]+', s)\n",
    "    alphabets = re.findall(r'[a-zA-Z]+', s)\n",
    "    print(*numbers)\n",
    "    print(*alphabets)\n",
    "s = \"ac345rty2948fgh234jk\"\n",
    "NumbersAlphabets(s)"
   ]
  },
  {
   "cell_type": "code",
   "execution_count": 32,
   "metadata": {},
   "outputs": [
    {
     "name": "stdout",
     "output_type": "stream",
     "text": [
      "re.compile('Programming')\n",
      "<class 're.Pattern'>\n"
     ]
    }
   ],
   "source": [
    "#compile() function\n",
    "#The searching pattern should be converted to Regex object\n",
    "pattern=re.compile(r'Programming')\n",
    "print(pattern)\n",
    "print(type(pattern))"
   ]
  },
  {
   "cell_type": "code",
   "execution_count": 33,
   "metadata": {},
   "outputs": [
    {
     "name": "stdout",
     "output_type": "stream",
     "text": [
      "<callable_iterator object at 0x000002929589F9A0>\n"
     ]
    }
   ],
   "source": [
    "#finditer()\n",
    "#returns an iterator object\n",
    "#It scans the string from left to right, and matches are returned in the iterator form.\n",
    "m=pattern.finditer('Subject Advanced Python Programming')\n",
    "print(m)\n",
    "#start() - returns the start index of the match\n",
    "#end() - returns end+1 index of the match\n",
    "#group() - returns matched string"
   ]
  },
  {
   "cell_type": "code",
   "execution_count": 34,
   "metadata": {},
   "outputs": [
    {
     "name": "stdout",
     "output_type": "stream",
     "text": [
      "The matched string is:ro,Start index is found at:8,End index is found at:10\n",
      "The matched string is:ro,Start index is found at:22,End index is found at:24\n",
      "The number of occurences of the pattern in the given string is 2\n"
     ]
    }
   ],
   "source": [
    "pattern=re.compile('ro')\n",
    "count=0\n",
    "matcher=pattern.finditer('python programming c programming')\n",
    "for match in matcher:\n",
    "    count+=1\n",
    "    print(\"The matched string is:{},Start index is found at:{},End index is found at:{}\".format(match.group(),match.start(),match.end()))\n",
    "    \n",
    "print(\"The number of occurences of the pattern in the given string is\",count)"
   ]
  },
  {
   "cell_type": "code",
   "execution_count": 35,
   "metadata": {},
   "outputs": [
    {
     "name": "stdout",
     "output_type": "stream",
     "text": [
      "The matched string is:python,Start index is found at:0,End index is found at:6\n",
      "The number of occurences of the pattern in the given string is 1\n"
     ]
    }
   ],
   "source": [
    "count=0\n",
    "matcher=re.finditer('python','python programming c programming')\n",
    "for match in matcher:\n",
    "    count+=1\n",
    "    print(\"The matched string is:{},Start index is found at:{},End index is found at:{}\".format(match.group(),match.start(),match.end()))\n",
    "    \n",
    "print(\"The number of occurences of the pattern in the given string is\",count)"
   ]
  },
  {
   "cell_type": "code",
   "execution_count": 36,
   "metadata": {},
   "outputs": [],
   "source": [
    "# /*Metacharacters\n",
    "    \n",
    "#     .  - Every character except newline(\\n)\n",
    "# */  "
   ]
  },
  {
   "cell_type": "code",
   "execution_count": 37,
   "metadata": {},
   "outputs": [],
   "source": [
    "# Special Sequences in Python RegEx\n",
    "# \\s -  space character\n",
    "# \\S -  Except space character\n",
    "# \\d -   any digit\n",
    "# \\D -  Except digit\n",
    "# \\w -  Any word character(alpha numeric characters and _)\n",
    "# \\W - Any character except word and _\n",
    "# \\A This gives a match if the characters to the right of this are at the beginning of the string.\n",
    "# \\b This gives a match if the characters to the right are at the beginning of a word or the characters to the left are at the end of a word in the given string.\n",
    "# \\B This gives a match if the characters to the right or left of \\B are not present at the beginning or end of a word in the given string.\n",
    "# \\Z This gives a match if the characters to the left of \\Z are present at the end of the string."
   ]
  },
  {
   "cell_type": "code",
   "execution_count": 38,
   "metadata": {},
   "outputs": [
    {
     "name": "stdout",
     "output_type": "stream",
     "text": [
      "[' ', ' ', ' ', ' ', ' ', ' ', ' ']\n",
      "Yes there is a match\n"
     ]
    }
   ],
   "source": [
    "text='Advanced Python Programming @ 2nd CSM  A'\n",
    "#Matches space character\n",
    "x=re.findall('\\s',text)\n",
    "print(x)\n",
    "if x:\n",
    "    print(\"Yes there is a match\")\n",
    "else:\n",
    "    print(\"No match is found\")\n"
   ]
  },
  {
   "cell_type": "code",
   "execution_count": 39,
   "metadata": {},
   "outputs": [
    {
     "name": "stdout",
     "output_type": "stream",
     "text": [
      "['A', 'd', 'v', 'a', 'n', 'c', 'e', 'd', 'P', 'y', 't', 'h', 'o', 'n', 'P', 'r', 'o', 'g', 'r', 'a', 'm', 'm', 'i', 'n', 'g', '@', '2', 'n', 'd', 'C', 'S', 'M', 'A']\n",
      "Yes there is a match\n"
     ]
    }
   ],
   "source": [
    "text='Advanced Python Programming @ 2nd CSM  A'\n",
    "#Matches every character except space character\n",
    "x=re.findall('\\S',text)\n",
    "print(x)\n",
    "if x:\n",
    "    print(\"Yes there is a match\")\n",
    "else:\n",
    "    print(\"No match is found\")\n"
   ]
  },
  {
   "cell_type": "code",
   "execution_count": 40,
   "metadata": {},
   "outputs": [
    {
     "name": "stdout",
     "output_type": "stream",
     "text": [
      "['2']\n",
      "Yes there is a match\n"
     ]
    }
   ],
   "source": [
    "text='Advanced Python Programming @ 2nd CSM  A'\n",
    "#Matches any digit\n",
    "x=re.findall('\\d',text)\n",
    "print(x)\n",
    "if x:\n",
    "    print(\"Yes there is a match\")\n",
    "else:\n",
    "    print(\"No match is found\")"
   ]
  },
  {
   "cell_type": "code",
   "execution_count": 41,
   "metadata": {},
   "outputs": [
    {
     "name": "stdout",
     "output_type": "stream",
     "text": [
      "['A', 'd', 'v', 'a', 'n', 'c', 'e', 'd', ' ', 'P', 'y', 't', 'h', 'o', 'n', ' ', 'P', 'r', 'o', 'g', 'r', 'a', 'm', 'm', 'i', 'n', 'g', ' ', '@', ' ', 'n', 'd', ' ', 'C', 'S', 'M', ' ', ' ', 'A']\n",
      "Yes there is a match\n"
     ]
    }
   ],
   "source": [
    "text='Advanced Python Programming @ 2nd CSM  A'\n",
    "#Matches any character Except digit\n",
    "x=re.findall('\\D',text)\n",
    "print(x)\n",
    "if x:\n",
    "    print(\"Yes there is a match\")\n",
    "else:\n",
    "    print(\"No match is found\")"
   ]
  },
  {
   "cell_type": "code",
   "execution_count": 42,
   "metadata": {},
   "outputs": [
    {
     "name": "stdout",
     "output_type": "stream",
     "text": [
      "['A', 'd', 'v', 'a', 'n', 'c', 'e', 'd', 'P', 'y', 't', 'h', 'o', 'n', 'P', 'r', 'o', 'g', 'r', 'a', 'm', 'm', 'i', 'n', 'g', '2', 'n', 'd', 'C', 'S', 'M', '_', 'A']\n",
      "Yes there is a match\n"
     ]
    }
   ],
   "source": [
    "text='Advanced Python Programming @ 2nd CSM _A'\n",
    "#Matches Any word (i.e A Word consists of alpha numeric characters)\n",
    "x=re.findall('\\w',text)\n",
    "print(x)\n",
    "if x:\n",
    "    print(\"Yes there is a match\")\n",
    "else:\n",
    "    print(\"No match is found\")"
   ]
  },
  {
   "cell_type": "code",
   "execution_count": 43,
   "metadata": {},
   "outputs": [
    {
     "name": "stdout",
     "output_type": "stream",
     "text": [
      "[' ', ' ', ' ', '@', ' ', ' ']\n",
      "Yes there is a match\n"
     ]
    }
   ],
   "source": [
    "text='Advanced Python Programming @ 2nd CSM_A'\n",
    "#Matches Any character Except word (i.e A Word consists of alpha numeric characters)\n",
    "x=re.findall('\\W',text)\n",
    "print(x)\n",
    "if x:\n",
    "    print(\"Yes there is a match\")\n",
    "else:\n",
    "    print(\"No match is found\")"
   ]
  },
  {
   "cell_type": "code",
   "execution_count": 44,
   "metadata": {},
   "outputs": [
    {
     "name": "stdout",
     "output_type": "stream",
     "text": [
      "['A', 'd', 'v', 'a', 'n', 'c', 'e', 'd', ' ', 'P', 'y', 't', 'h', 'o', 'n', ' ', 'P', 'r', 'o', 'g', 'r', 'a', 'm', 'm', 'i', 'n', 'g', ' ', '@', ' ', '2', 'n', 'd', ' ', 'C', 'S', 'M', ' ', ' ', 'A']\n",
      "Yes there is a match\n"
     ]
    }
   ],
   "source": [
    "text='Advanced Python Programming @ 2nd CSM  A\\n'\n",
    "#Matches Any character Except \\n \n",
    "x=re.findall('.',text)\n",
    "print(x)\n",
    "if x:\n",
    "    print(\"Yes there is a match\")\n",
    "else:\n",
    "    print(\"No match is found\")"
   ]
  },
  {
   "cell_type": "code",
   "execution_count": 45,
   "metadata": {},
   "outputs": [
    {
     "name": "stdout",
     "output_type": "stream",
     "text": [
      "['A', 'd', 'v', 'a', 'n', 'c', 'e', 'd', ' ', 'P', 'y', 't', 'h', 'o', 'n', ' ', 'P', 'r', 'o', 'g', 'r', 'a', 'm', 'm', 'i', 'n', 'g', ' ', '@', ' ', '2', 'n', 'd', ' ', 'C', 'S', 'M', ' ', ' ', 'A', '.']\n",
      "Yes there is a match\n"
     ]
    }
   ],
   "source": [
    "text='Advanced Python Programming @ 2nd CSM  A.'\n",
    "#Matches Any character Except \\n \n",
    "x=re.findall('.',text)\n",
    "print(x)\n",
    "if x:\n",
    "    print(\"Yes there is a match\")\n",
    "else:\n",
    "    print(\"No match is found\")"
   ]
  },
  {
   "cell_type": "code",
   "execution_count": 46,
   "metadata": {},
   "outputs": [
    {
     "name": "stdout",
     "output_type": "stream",
     "text": [
      "Result for \\A =  ['Wel']\n",
      "Result for \\b =  ['Roh']\n",
      "Result for \\b =  ['Welcome']\n",
      "Result for \\B =  ['Roh']\n",
      "Result for \\Z =  ['tha.']\n"
     ]
    }
   ],
   "source": [
    "text = '''Welcome to Advanced Python Programming Lab @ 16-12-2022 Rohitha.'''\n",
    "# Example for \\A\n",
    "res = re.findall('\\AWel',text)\n",
    "print(\"Result for \\A = \", res)\n",
    "\n",
    "# Example for \\b\n",
    "res = re.findall(r'\\bRoh',text)\n",
    "print(\"Result for \\\\b = \", res)\n",
    "\n",
    "# Example for \\b\n",
    "res = re.findall(r'Welcome\\b',text)\n",
    "print(\"Result for \\\\b = \", res)\n",
    "\n",
    "# Example for \\B\n",
    "res = re.findall('Roh\\B',text)\n",
    "print(\"Result for \\B = \", res)\n",
    "\n",
    "\n",
    "# Example for \\Z\n",
    "res = re.findall('tha.\\Z',text)\n",
    "print(\"Result for \\Z = \", res)"
   ]
  },
  {
   "cell_type": "code",
   "execution_count": 47,
   "metadata": {},
   "outputs": [
    {
     "name": "stdout",
     "output_type": "stream",
     "text": [
      "Found a match!\n",
      "Found a match!\n",
      "Found a match!\n",
      "Found a match!\n",
      "Not matched!\n",
      "Found a match!\n"
     ]
    }
   ],
   "source": [
    "def text_match(text):\n",
    "        patterns = '^[pP].+[Nn]$'\n",
    "        if re.search(patterns, text):\n",
    "                return 'Found a match!'\n",
    "        else:\n",
    "                return('Not matched!')\n",
    "print(text_match(\"Python\"))\n",
    "print(text_match(\"PythoN\"))\n",
    "print(text_match(\"pythoN\"))\n",
    "print(text_match(\"PYTHON\"))\n",
    "print(text_match(\"YTHON\"))\n",
    "print(text_match(\"Py+N\"))"
   ]
  },
  {
   "cell_type": "code",
   "execution_count": null,
   "metadata": {},
   "outputs": [],
   "source": []
  }
 ],
 "metadata": {
  "kernelspec": {
   "display_name": "Python 3",
   "language": "python",
   "name": "python3"
  },
  "language_info": {
   "codemirror_mode": {
    "name": "ipython",
    "version": 3
   },
   "file_extension": ".py",
   "mimetype": "text/x-python",
   "name": "python",
   "nbconvert_exporter": "python",
   "pygments_lexer": "ipython3",
   "version": "3.8.5"
  }
 },
 "nbformat": 4,
 "nbformat_minor": 5
}
