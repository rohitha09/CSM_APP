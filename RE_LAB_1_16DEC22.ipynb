{
 "cells": [
  {
   "cell_type": "code",
   "execution_count": 3,
   "metadata": {},
   "outputs": [],
   "source": []
  },
  {
   "cell_type": "code",
   "execution_count": 7,
   "metadata": {},
   "outputs": [
    {
     "ename": "IndentationError",
     "evalue": "expected an indented block (<ipython-input-7-afcc8256d290>, line 6)",
     "output_type": "error",
     "traceback": [
      "\u001b[1;36m  File \u001b[1;32m\"<ipython-input-7-afcc8256d290>\"\u001b[1;36m, line \u001b[1;32m6\u001b[0m\n\u001b[1;33m    certain('ab@cdf')\u001b[0m\n\u001b[1;37m    ^\u001b[0m\n\u001b[1;31mIndentationError\u001b[0m\u001b[1;31m:\u001b[0m expected an indented block\n"
     ]
    }
   ],
   "source": [
    "# Write a Python program to check that a string contains only a certain \n",
    "# set of characters (in this case a-z, A-Z and 0-9).\n",
    "\n",
    "def certain(s):\n",
    "    \n",
    "certain('ab@cdf')\n",
    "certain('abc$2/')\n"
   ]
  },
  {
   "cell_type": "code",
   "execution_count": 8,
   "metadata": {},
   "outputs": [
    {
     "ename": "IndentationError",
     "evalue": "expected an indented block (<ipython-input-8-26b5e1701f0a>, line 6)",
     "output_type": "error",
     "traceback": [
      "\u001b[1;36m  File \u001b[1;32m\"<ipython-input-8-26b5e1701f0a>\"\u001b[1;36m, line \u001b[1;32m6\u001b[0m\n\u001b[1;33m    follow('a')\u001b[0m\n\u001b[1;37m    ^\u001b[0m\n\u001b[1;31mIndentationError\u001b[0m\u001b[1;31m:\u001b[0m expected an indented block\n"
     ]
    }
   ],
   "source": [
    "#2) Write a Python program that matches a string that has an a followed \n",
    "#by zero or more b's \n",
    "def follow(s):\n",
    "    \n",
    "\n",
    "follow('a')\n",
    "follow('b')\n",
    "follow('ab')\n",
    "follow('abbc')\n",
    "follow('abc')\n",
    "follow('acd')\n",
    "follow('abbbcd')\n"
   ]
  },
  {
   "cell_type": "code",
   "execution_count": 9,
   "metadata": {},
   "outputs": [
    {
     "ename": "IndentationError",
     "evalue": "expected an indented block (<ipython-input-9-fee12a60bfa8>, line 6)",
     "output_type": "error",
     "traceback": [
      "\u001b[1;36m  File \u001b[1;32m\"<ipython-input-9-fee12a60bfa8>\"\u001b[1;36m, line \u001b[1;32m6\u001b[0m\n\u001b[1;33m    follow('a')\u001b[0m\n\u001b[1;37m    ^\u001b[0m\n\u001b[1;31mIndentationError\u001b[0m\u001b[1;31m:\u001b[0m expected an indented block\n"
     ]
    }
   ],
   "source": [
    "#3) Write a Python program that matches a string that has \n",
    "#an a followed by one or more b's\n",
    "def follow(s):\n",
    "    \n",
    "\n",
    "follow('a')\n",
    "follow('b')\n",
    "follow('ab')\n",
    "follow('abbc')\n",
    "follow('abc')\n",
    "follow('acd')\n",
    "follow('abbbcd')"
   ]
  },
  {
   "cell_type": "code",
   "execution_count": 10,
   "metadata": {},
   "outputs": [
    {
     "ename": "IndentationError",
     "evalue": "expected an indented block (<ipython-input-10-d631c613d696>, line 6)",
     "output_type": "error",
     "traceback": [
      "\u001b[1;36m  File \u001b[1;32m\"<ipython-input-10-d631c613d696>\"\u001b[1;36m, line \u001b[1;32m6\u001b[0m\n\u001b[1;33m    follow('a')\u001b[0m\n\u001b[1;37m    ^\u001b[0m\n\u001b[1;31mIndentationError\u001b[0m\u001b[1;31m:\u001b[0m expected an indented block\n"
     ]
    }
   ],
   "source": [
    "#4) Write a Python program that matches a string that has an a \n",
    "#followed by zero or one 'b'\n",
    "def follow(s):\n",
    "    \n",
    "\n",
    "follow('a')\n",
    "follow('b')\n",
    "follow('ab')\n",
    "follow('abbc')\n",
    "follow('abc')\n",
    "follow('acd')\n",
    "follow('abbbcd')"
   ]
  },
  {
   "cell_type": "code",
   "execution_count": 11,
   "metadata": {},
   "outputs": [
    {
     "ename": "IndentationError",
     "evalue": "expected an indented block (<ipython-input-11-49f9d7cf4309>, line 6)",
     "output_type": "error",
     "traceback": [
      "\u001b[1;36m  File \u001b[1;32m\"<ipython-input-11-49f9d7cf4309>\"\u001b[1;36m, line \u001b[1;32m6\u001b[0m\n\u001b[1;33m    follow('a')\u001b[0m\n\u001b[1;37m    ^\u001b[0m\n\u001b[1;31mIndentationError\u001b[0m\u001b[1;31m:\u001b[0m expected an indented block\n"
     ]
    }
   ],
   "source": [
    "#5) Write a Python program that matches a string that has an a followed \n",
    "#by three 'b'\n",
    "def follow(s):\n",
    "    \n",
    "\n",
    "follow('a')\n",
    "follow('b')\n",
    "follow('ab')\n",
    "follow('abbc')\n",
    "follow('abc')\n",
    "follow('acd')\n",
    "follow('abbbcd')\n",
    "follow('abbbbcd')"
   ]
  },
  {
   "cell_type": "code",
   "execution_count": null,
   "metadata": {},
   "outputs": [],
   "source": [
    "#6) Write a Python program that matches a string that has an a \n",
    "#followed by two to three 'b'.\n",
    "def follow(s):\n",
    "    \n",
    "\n",
    "follow('a')\n",
    "follow('b')\n",
    "follow('ab')\n",
    "follow('abbc')\n",
    "follow('abc')\n",
    "follow('acd')\n",
    "follow('abbbcd')\n",
    "follow('abbbbcd')"
   ]
  },
  {
   "cell_type": "code",
   "execution_count": 12,
   "metadata": {},
   "outputs": [
    {
     "ename": "IndentationError",
     "evalue": "expected an indented block (<ipython-input-12-6ba869f4af86>, line 6)",
     "output_type": "error",
     "traceback": [
      "\u001b[1;36m  File \u001b[1;32m\"<ipython-input-12-6ba869f4af86>\"\u001b[1;36m, line \u001b[1;32m6\u001b[0m\n\u001b[1;33m    follow('abc')\u001b[0m\n\u001b[1;37m    ^\u001b[0m\n\u001b[1;31mIndentationError\u001b[0m\u001b[1;31m:\u001b[0m expected an indented block\n"
     ]
    }
   ],
   "source": [
    "#7) Write a Python program to find the sequence of lowercase letters \n",
    "#joined with a underscore.\n",
    "def follow(s):\n",
    "    \n",
    "\n",
    "follow('abc')\n",
    "follow('abbbc_cccdfg')\n"
   ]
  },
  {
   "cell_type": "code",
   "execution_count": 13,
   "metadata": {},
   "outputs": [
    {
     "ename": "IndentationError",
     "evalue": "expected an indented block (<ipython-input-13-eabb2aa1c8c2>, line 6)",
     "output_type": "error",
     "traceback": [
      "\u001b[1;36m  File \u001b[1;32m\"<ipython-input-13-eabb2aa1c8c2>\"\u001b[1;36m, line \u001b[1;32m6\u001b[0m\n\u001b[1;33m    follow('Python')\u001b[0m\n\u001b[1;37m    ^\u001b[0m\n\u001b[1;31mIndentationError\u001b[0m\u001b[1;31m:\u001b[0m expected an indented block\n"
     ]
    }
   ],
   "source": [
    "#8) Write a Python program to find the sequences of one upper case letter \n",
    "#followed by lower case letters.\n",
    "def follow(s):\n",
    "   \n",
    "\n",
    "follow('Python')\n",
    "follow('Advanced')\n",
    "follow('advanced')\n",
    "follow('Advanced_Python')\n",
    "follow('advanced_Python')\n",
    "follow('advanced_PYTHON')\n"
   ]
  },
  {
   "cell_type": "code",
   "execution_count": null,
   "metadata": {},
   "outputs": [],
   "source": [
    "#9) Write a Python program that matches a string that has an 'a' followed \n",
    "#by anything, ending in 'b'.\n",
    "def follow(s):\n",
    "    \n",
    "\n",
    "\n",
    "follow('a')\n",
    "follow('ab')\n",
    "follow('accb')\n",
    "follow('a.b')\n",
    "follow('a   b')\n",
    "follow('abbbb')\n",
    "follow('aab')\n",
    "follow('cab')\n",
    "follow('caab')"
   ]
  },
  {
   "cell_type": "code",
   "execution_count": null,
   "metadata": {},
   "outputs": [],
   "source": [
    "#10) Write a Python program that matches a word at the beginning of a string.*/\n"
   ]
  },
  {
   "cell_type": "code",
   "execution_count": null,
   "metadata": {},
   "outputs": [],
   "source": [
    "#11) Write a Python program that matches a word at the end of string,\n",
    "#with optional punctuation.\n",
    "#text1=The quick brown fox jumps over the lazy dog.\n",
    "#text2=The quick brown fox jumps over the lazy dog"
   ]
  },
  {
   "cell_type": "code",
   "execution_count": null,
   "metadata": {},
   "outputs": [],
   "source": [
    "#12. Extract all twitter handles from following text. \n",
    "#Twitter handle is the text that appears after https://twitter.com/ \n",
    "#and is a single word. \n",
    "#Also it contains only alpha numeric characters i.e. A-Z a-z , o to 9 and \n",
    "#underscore _\n",
    "\n",
    "#text = '''\n",
    "#Follow our leader Elon musk on twitter here: https://twitter.com/elonmusk, more information \n",
    "#on Tesla's products can be found at https://www.tesla.com/. Also here are leading influencers \n",
    "#for tesla related news,\n",
    "#https://twitter.com/teslarati\n",
    "#https://twitter.com/dummy_tesla\n",
    "#https://twitter.com/dummy_2_tesla\n",
    "\n",
    "\n"
   ]
  },
  {
   "cell_type": "code",
   "execution_count": null,
   "metadata": {},
   "outputs": [],
   "source": [
    "# 13. Extract Concentration Risk Types. It will be a text that appears after \"Concentration Risk:\", In below example, your regex should extract these two strings\n",
    "\n",
    "# (1) Credit Risk\n",
    "\n",
    "# (2) Supply Risk\n",
    "\n",
    "# text = '''\n",
    "# Concentration of Risk: Credit Risk\n",
    "# Financial instruments that potentially subject us to a concentration of credit risk consist of cash, cash equivalents, marketable securities,\n",
    "# restricted cash, accounts receivable, convertible note hedges, and interest rate swaps. Our cash balances are primarily invested in money market funds\n",
    "# or on deposit at high credit quality financial institutions in the U.S. These deposits are typically in excess of insured limits. As of September 30, 2021\n",
    "# and December 31, 2020, no entity represented 10% or more of our total accounts receivable balance. The risk of concentration for our convertible note\n",
    "# hedges and interest rate swaps is mitigated by transacting with several highly-rated multinational banks.\n",
    "# Concentration of Risk: Supply Risk\n",
    "# We are dependent on our suppliers, including single source suppliers, and the inability of these suppliers to deliver necessary components of our\n",
    "# products in a timely manner at prices, quality levels and volumes acceptable to us, or our inability to efficiently manage these components from these\n",
    "# suppliers, could have a material adverse effect on our business, prospects, financial condition and operating results.\n",
    "# '''\n",
    "\n",
    "\n",
    "\n",
    "# */"
   ]
  },
  {
   "cell_type": "code",
   "execution_count": null,
   "metadata": {},
   "outputs": [],
   "source": [
    "# /*14. Companies in europe reports their financial numbers of semi annual \n",
    "#basis and you can have a document like this. \n",
    "# To extract quarterly and semi annual period \n",
    "# you can use a regex as shown below\n",
    "\n",
    "# text = '''\n",
    "# Tesla's gross cost of operating lease vehicles in FY2021 Q1 was $4.85 billion.\n",
    "# BMW's gross cost of operating vehicles in FY2021 S1 was $8 billion.\n",
    "# '''\n",
    "\n",
    "# */\n"
   ]
  },
  {
   "cell_type": "code",
   "execution_count": 14,
   "metadata": {},
   "outputs": [
    {
     "ename": "IndentationError",
     "evalue": "expected an indented block (<ipython-input-14-600f2bfdc97e>, line 7)",
     "output_type": "error",
     "traceback": [
      "\u001b[1;36m  File \u001b[1;32m\"<ipython-input-14-600f2bfdc97e>\"\u001b[1;36m, line \u001b[1;32m7\u001b[0m\n\u001b[1;33m    follow('hi hitman had you gone for batting.he is cbitten by a dog.butterfly is colorfull.hat is oval in shape.ramana is living in the hut,hits mosquitoes in the evening.')\u001b[0m\n\u001b[1;37m    ^\u001b[0m\n\u001b[1;31mIndentationError\u001b[0m\u001b[1;31m:\u001b[0m expected an indented block\n"
     ]
    }
   ],
   "source": [
    "# /*15. Create Regular Expressions that\n",
    "# a) Recognize following strings bit, but, bat, hit, hat or hut*/\n",
    "def follow(s):\n",
    "    \n",
    "\n",
    "\n",
    "follow('hi hitman had you gone for batting.he is cbitten by a dog.butterfly is colorfull.hat is oval in shape.ramana is living in the hut,hits mosquitoes in the evening.')\n",
    "\n"
   ]
  },
  {
   "cell_type": "code",
   "execution_count": 15,
   "metadata": {},
   "outputs": [
    {
     "ename": "IndentationError",
     "evalue": "expected an indented block (<ipython-input-15-eb58c67dcd32>, line 6)",
     "output_type": "error",
     "traceback": [
      "\u001b[1;36m  File \u001b[1;32m\"<ipython-input-15-eb58c67dcd32>\"\u001b[1;36m, line \u001b[1;32m6\u001b[0m\n\u001b[1;33m    names = \"\"\"\u001b[0m\n\u001b[1;37m    ^\u001b[0m\n\u001b[1;31mIndentationError\u001b[0m\u001b[1;31m:\u001b[0m expected an indented block\n"
     ]
    }
   ],
   "source": [
    "# /*b) Match any pair of words \n",
    "# separated by a single space, that is, first and last names.*/\n",
    "def follow(s):\n",
    "    \n",
    "\n",
    "names = \"\"\"\n",
    "Aamir Aaron\n",
    "Abbey, Abbie\n",
    "Abbot, Abbott\n",
    "Abby, Abdel\n",
    "Abdul, Abdulkarim\n",
    "Abdullah Abe\n",
    "Abel Abelard\n",
    "Abner Abraham\n",
    "Abram Ace\n",
    "Adair Adam\n",
    "Adams Addie\n",
    "Adger Aditya\n",
    "Adlai Adnan\n",
    "Adolf Adolfo\n",
    "Adolph Adolphe\n",
    "Adolpho Adolphus\n",
    "Adrian Adrick\n",
    "Adrien Agamemnon\n",
    "Aguinaldo Agamemnon\n",
    "\"\"\"\n",
    "follow(names)\n",
    "\n"
   ]
  },
  {
   "cell_type": "code",
   "execution_count": null,
   "metadata": {},
   "outputs": [],
   "source": [
    "# /*c) Match any word and single letter separated by a comma and single space, \n",
    "# as in last name, first initial.*/\n",
    "def follow(s):\n",
    "   \n",
    "\n",
    "names = \"\"\"Aamir Aaron Abbey, Abbie Abbot, Abbott Abby, Abdel Abdul, Abdulkarim Abdullah Abe\n",
    "Abel Abelard Abner Abraham Abram Ace Adair Adam Adams Addie Adger Aditya Adlai Adnan Adolf Adolfo Adolph Adolphe Adolpho Adolphus Adrian Adrick Adrien Agamemnon Aguinaldo Agamemnon\"\"\"\n",
    "follow(names)\n"
   ]
  },
  {
   "cell_type": "code",
   "execution_count": null,
   "metadata": {},
   "outputs": [],
   "source": [
    "# /*d) \n",
    "# Match simple Web domain names that begin with www. and end with a “.com” \n",
    "#suffix;\n",
    "# for example, www.yahoo.com. \n",
    "# Extra Credit: If your regex also supports other high-level domain names, \n",
    "# such as .edu, .net, etc. \n",
    "# (for example, www.foothill.edu).*/\n",
    "def domain(s):\n",
    "    \n",
    "web=\"\"\"www.foothill.edu www.yahoo.com www.google.com\"\"\"\n",
    "domain(web)"
   ]
  },
  {
   "cell_type": "code",
   "execution_count": 6,
   "metadata": {},
   "outputs": [
    {
     "ename": "NameError",
     "evalue": "name 're' is not defined",
     "output_type": "error",
     "traceback": [
      "\u001b[1;31m---------------------------------------------------------------------------\u001b[0m",
      "\u001b[1;31mNameError\u001b[0m                                 Traceback (most recent call last)",
      "\u001b[1;32m<ipython-input-6-d6d1d495389f>\u001b[0m in \u001b[0;36m<module>\u001b[1;34m\u001b[0m\n\u001b[0;32m     13\u001b[0m         \u001b[0mprint\u001b[0m\u001b[1;33m(\u001b[0m\u001b[1;34m\"Match Not Found in the string\"\u001b[0m\u001b[1;33m)\u001b[0m\u001b[1;33m\u001b[0m\u001b[1;33m\u001b[0m\u001b[0m\n\u001b[0;32m     14\u001b[0m \u001b[0maddresses\u001b[0m\u001b[1;33m=\u001b[0m\u001b[1;34m\"\"\"1180 Bordeaux Drive.3120 De la Cruz Boulevard.\"\"\"\u001b[0m\u001b[1;33m\u001b[0m\u001b[1;33m\u001b[0m\u001b[0m\n\u001b[1;32m---> 15\u001b[1;33m \u001b[0maddress\u001b[0m\u001b[1;33m(\u001b[0m\u001b[0maddresses\u001b[0m\u001b[1;33m)\u001b[0m\u001b[1;33m\u001b[0m\u001b[1;33m\u001b[0m\u001b[0m\n\u001b[0m",
      "\u001b[1;32m<ipython-input-6-d6d1d495389f>\u001b[0m in \u001b[0;36maddress\u001b[1;34m(s)\u001b[0m\n\u001b[0;32m      6\u001b[0m \u001b[1;31m# 3120 De la Cruz Boulevard.*/\u001b[0m\u001b[1;33m\u001b[0m\u001b[1;33m\u001b[0m\u001b[1;33m\u001b[0m\u001b[0m\n\u001b[0;32m      7\u001b[0m \u001b[1;32mdef\u001b[0m \u001b[0maddress\u001b[0m\u001b[1;33m(\u001b[0m\u001b[0ms\u001b[0m\u001b[1;33m)\u001b[0m\u001b[1;33m:\u001b[0m\u001b[1;33m\u001b[0m\u001b[1;33m\u001b[0m\u001b[0m\n\u001b[1;32m----> 8\u001b[1;33m     \u001b[0ml\u001b[0m\u001b[1;33m=\u001b[0m\u001b[0mre\u001b[0m\u001b[1;33m.\u001b[0m\u001b[0mfindall\u001b[0m\u001b[1;33m(\u001b[0m\u001b[1;34m'[0-9]+\\s{1}[\\w\\s]+.'\u001b[0m\u001b[1;33m,\u001b[0m\u001b[0ms\u001b[0m\u001b[1;33m)\u001b[0m\u001b[1;33m\u001b[0m\u001b[1;33m\u001b[0m\u001b[0m\n\u001b[0m\u001b[0;32m      9\u001b[0m     \u001b[0mprint\u001b[0m\u001b[1;33m(\u001b[0m\u001b[0ml\u001b[0m\u001b[1;33m)\u001b[0m\u001b[1;33m\u001b[0m\u001b[1;33m\u001b[0m\u001b[0m\n\u001b[0;32m     10\u001b[0m     \u001b[1;32mif\u001b[0m \u001b[0ml\u001b[0m\u001b[1;33m:\u001b[0m\u001b[1;33m\u001b[0m\u001b[1;33m\u001b[0m\u001b[0m\n",
      "\u001b[1;31mNameError\u001b[0m: name 're' is not defined"
     ]
    }
   ],
   "source": [
    "# /*e) Match a street address according to your local format\n",
    "# (keep your regex general enough to match any number of street words, \n",
    "#  including the type designation). \n",
    "# For example, American street addresses use the format: 1180 Bordeaux Drive. \n",
    "# Make your regex flexible enough to support multi-word street names such as:\n",
    "# 3120 De la Cruz Boulevard.*/\n",
    "def address(s):\n",
    "   \n",
    "addresses=\"\"\"1180 Bordeaux Drive.3120 De la Cruz Boulevard.\"\"\"\n",
    "address(addresses)"
   ]
  },
  {
   "cell_type": "code",
   "execution_count": null,
   "metadata": {},
   "outputs": [],
   "source": [
    "#16 Write a Python Function to separate the numbers and alphabets from \n",
    "#the given string"
   ]
  },
  {
   "cell_type": "code",
   "execution_count": null,
   "metadata": {},
   "outputs": [],
   "source": [
    "#17 For the given input strings, remove everything from the \n",
    "#first occurrence of i till end of the string.\n",
    "#s1 = 'remove the special meaning of such constructs'\n",
    "#s2 = 'characters while constructing'\n"
   ]
  },
  {
   "cell_type": "code",
   "execution_count": null,
   "metadata": {},
   "outputs": [],
   "source": [
    "#18 For the given input strings, remove everything from the \n",
    "#first occurrence of test (irrespective of case) till end of the string, \n",
    "#provided test isn't at the end of the string.\n",
    "#s1 = 'this is a Test'\n",
    "#s2 = 'always test your RE for corner cases'\n",
    "#s3 = 'a TEST of skill tests?'\n",
    "\n"
   ]
  },
  {
   "cell_type": "code",
   "execution_count": null,
   "metadata": {},
   "outputs": [],
   "source": [
    "# 19 For the input list words, remove all elements having less than 6 characters.\n",
    "# words = ['sequoia', 'subtle', 'exhibit', 'asset', 'sets', 'tests', 'site']\n",
    "\n"
   ]
  },
  {
   "cell_type": "code",
   "execution_count": 4,
   "metadata": {},
   "outputs": [],
   "source": [
    "#For the input list words, filter all elements starting with s or t\n",
    "#and having a maximum of 6 characters. \n",
    "#words = ['sequoia', 'subtle', 'exhibit', 'asset', 'sets', 'tests', 'site']\n"
   ]
  },
  {
   "cell_type": "code",
   "execution_count": 3,
   "metadata": {},
   "outputs": [],
   "source": [
    "#21 For the list items, filter all elements starting with hand and ending \n",
    "#with s or y or le.\n",
    "#items = ['-handy', 'hand', 'handy', 'unhand', 'hands', 'handle']\n"
   ]
  },
  {
   "cell_type": "code",
   "execution_count": null,
   "metadata": {},
   "outputs": [],
   "source": [
    "#22 Replace all whole words reed or read or red with X.\n",
    "# ip = 'redo red credible :read: rod reed'\n"
   ]
  },
  {
   "cell_type": "code",
   "execution_count": null,
   "metadata": {},
   "outputs": [],
   "source": [
    "#23 For the list words, filter all elements containing e or i \n",
    "#followed by l or n. Note that the order mentioned should be followed.\n",
    "#words = ['surrender', 'unicorn', 'newer', 'door', 'empty', 'eel', 'pest']\n"
   ]
  },
  {
   "cell_type": "code",
   "execution_count": null,
   "metadata": {},
   "outputs": [],
   "source": [
    "#24 For the list words, filter all elements containing e or i and l or n \n",
    "#in any order.\n",
    "#words = ['surrender', 'unicorn', 'newer', 'door', 'empty', 'eel', 'pest']\n",
    "\n",
    "\n"
   ]
  },
  {
   "cell_type": "code",
   "execution_count": 2,
   "metadata": {},
   "outputs": [],
   "source": [
    "#25 For the list words, filter all elements not starting with e or p or u.\n",
    "#words = ['surrender', 'unicorn', 'newer', 'door', 'empty', 'eel', 'pest']\n"
   ]
  },
  {
   "cell_type": "code",
   "execution_count": null,
   "metadata": {},
   "outputs": [],
   "source": [
    "#26 For the given list, filter all elements that do not contain e.\n",
    "# items = ['goal', 'new', 'user', 'sit', 'eat', 'dinner']\n"
   ]
  },
  {
   "cell_type": "code",
   "execution_count": null,
   "metadata": {},
   "outputs": [],
   "source": [
    "#27 Replace all occurrences of note irrespective of case with X.\n",
    "#ip = 'This note should not be NoTeD'\n",
    "\n"
   ]
  },
  {
   "cell_type": "code",
   "execution_count": 1,
   "metadata": {},
   "outputs": [],
   "source": [
    "#28 For the given input list, filter all elements that contains 42 \n",
    "#surrounded by word characters.\n",
    "#words = ['hi42bye', 'nice1423', 'bad42', 'cool_42a', 'fake4b']\n"
   ]
  },
  {
   "cell_type": "code",
   "execution_count": null,
   "metadata": {},
   "outputs": [],
   "source": [
    "#29 Write a Python program to find the substrings within a string.\n",
    "\n",
    "#Sample text :\n",
    "\n",
    "#'Python exercises, PHP exercises, C# exercises'\n",
    "\n",
    "#Pattern :\n",
    "\n",
    "#'exercises'"
   ]
  },
  {
   "cell_type": "code",
   "execution_count": null,
   "metadata": {},
   "outputs": [],
   "source": [
    "#30 Write a Python program to convert a date of yyyy-mm-dd format to dd-mm-yyyy\n",
    "#format.\n"
   ]
  },
  {
   "cell_type": "code",
   "execution_count": null,
   "metadata": {},
   "outputs": [],
   "source": [
    "#31 Write a Python program to separate and print the numbers of a given string.\n",
    "#text=\"Ten 10, Twenty 20, Thirty 30\"\n"
   ]
  },
  {
   "cell_type": "code",
   "execution_count": null,
   "metadata": {},
   "outputs": [],
   "source": [
    "#32 Write a Python program to separate and print the numbers and their position of a given string.\n",
    "#text = \"The following example creates an ArrayList with a capacity of 50 elements. Four elements are then added to the ArrayList and the ArrayList is trimmed accordingly.\"\n"
   ]
  },
  {
   "cell_type": "code",
   "execution_count": null,
   "metadata": {},
   "outputs": [],
   "source": [
    "#33 Write a Python program that matches a word containing 'z', not at the start or end of the word.\n",
    "#text=The quick brown fox jumps over the lazy dog.\n",
    "'"
   ]
  },
  {
   "cell_type": "code",
   "execution_count": null,
   "metadata": {},
   "outputs": [],
   "source": []
  }
 ],
 "metadata": {
  "kernelspec": {
   "display_name": "Python 3",
   "language": "python",
   "name": "python3"
  },
  "language_info": {
   "codemirror_mode": {
    "name": "ipython",
    "version": 3
   },
   "file_extension": ".py",
   "mimetype": "text/x-python",
   "name": "python",
   "nbconvert_exporter": "python",
   "pygments_lexer": "ipython3",
   "version": "3.8.5"
  }
 },
 "nbformat": 4,
 "nbformat_minor": 4
}
